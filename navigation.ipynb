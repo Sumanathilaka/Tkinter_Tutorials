{
 "cells": [
  {
   "cell_type": "markdown",
   "metadata": {},
   "source": [
    "# Navigation between screen"
   ]
  },
  {
   "cell_type": "code",
   "execution_count": 9,
   "metadata": {},
   "outputs": [],
   "source": [
    "import tkinter as tk\n",
    "\n",
    "def show_screen1():\n",
    "    screen2.pack_forget()\n",
    "    screen1.pack()\n",
    "\n",
    "def show_screen2():\n",
    "    screen1.pack_forget()\n",
    "    screen2.pack()\n",
    "\n",
    "window = tk.Tk()\n",
    "window.title(\"Window Navigation\")\n",
    "window.geometry(\"500x500\")\n",
    "\n",
    "#creating frame No 1\n",
    "screen1= tk.Frame(window)\n",
    "label1= tk.Label(screen1,text=\"Welcome to Screen No 1\",font=(\"16\"))\n",
    "label12= tk.Label(screen1,text=\"You are in the Screen No 1 : Login\",font=(\"16\"))\n",
    "#task has been assigned to button to navigate\n",
    "button1= tk.Button(screen1, text=\"Move to Screen 2\", command=show_screen2)\n",
    "label1.pack()\n",
    "label12.pack()\n",
    "\n",
    "button1.pack()\n",
    "\n",
    "\n",
    "#creating frame No 2\n",
    "screen2= tk.Frame(window)\n",
    "label2= tk.Label(screen2,text=\"Welcome to Screen No 2\",font=(\"16\"))\n",
    "button2= tk.Button(screen2, text=\"Move to Screen 1\", command=show_screen1)\n",
    "label2.pack()\n",
    "button2.pack()\n",
    "\n",
    "#intially calling screeen 1\n",
    "show_screen1()\n",
    "\n",
    "window.mainloop()\n",
    "\n"
   ]
  }
 ],
 "metadata": {
  "kernelspec": {
   "display_name": "llm",
   "language": "python",
   "name": "python3"
  },
  "language_info": {
   "codemirror_mode": {
    "name": "ipython",
    "version": 3
   },
   "file_extension": ".py",
   "mimetype": "text/x-python",
   "name": "python",
   "nbconvert_exporter": "python",
   "pygments_lexer": "ipython3",
   "version": "3.11.5"
  }
 },
 "nbformat": 4,
 "nbformat_minor": 2
}
