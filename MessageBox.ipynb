{
 "cells": [
  {
   "cell_type": "markdown",
   "metadata": {},
   "source": [
    "# message box"
   ]
  },
  {
   "cell_type": "markdown",
   "metadata": {},
   "source": [
    "# Value is returned from the msg box\n",
    "- yes/no\n",
    "- cancel/retry\n",
    "- ok/ retry\n",
    "\n",
    "# Non Value return\n",
    "- info\n",
    "- warning\n",
    "- error"
   ]
  },
  {
   "cell_type": "code",
   "execution_count": 2,
   "metadata": {},
   "outputs": [
    {
     "name": "stdout",
     "output_type": "stream",
     "text": [
      "User clicked Yes\n",
      "User clicked Yes\n",
      "User clicked No\n",
      "User clicked Cancel\n",
      "User clicked Retry\n"
     ]
    }
   ],
   "source": [
    "#Message Box\n",
    "import tkinter.messagebox as mbox\n",
    "\n",
    "# Tkinter window to trigger the examples\n",
    "import tkinter as tk\n",
    "\n",
    "\n",
    "#just windows to show some outputs\n",
    "# Example using showinfo()\n",
    "def show_info_message():\n",
    "    #title , Msg\n",
    "    mbox.showinfo(\"Information\", \"This is an information message.\")\n",
    "\n",
    "#title and the content as the parameters to the functions\n",
    "# Example using showwarning()\n",
    "def show_warning_message():\n",
    "    mbox.showwarning(\"Warning\", \"This is a warning message.\")\n",
    "\n",
    "# Example using showerror()\n",
    "def show_error_message():\n",
    "    mbox.showerror(\"Error\", \"This is an error message.\")\n",
    "\n",
    "#expect a user input throught the msg box\n",
    "# Example using askyesno()\n",
    "def ask_yes_no():\n",
    "    #function --> askyesno\n",
    "    response = mbox.askyesno(\"Question\", \"Do you want to proceed?\")\n",
    "    if response:\n",
    "        #true\n",
    "        print(\"User clicked Yes\")\n",
    "    else:\n",
    "        #false\n",
    "        print(\"User clicked No\")\n",
    "\n",
    "# Example using askokcancel()\n",
    "def ask_ok_cancel():\n",
    "    response = mbox.askokcancel(\"Confirmation\", \"Do you want to proceed?\")\n",
    "    if response:\n",
    "        #true --ok\n",
    "        print(\"User clicked OK\")\n",
    "    else:\n",
    "        #false --> cancel\n",
    "        print(\"User clicked Cancel\")\n",
    "\n",
    "# Example using askretrycancel()\n",
    "def ask_retry_cancel():\n",
    "    response = mbox.askretrycancel(\"Retry\", \"Do you want to try again?\")\n",
    "    if response:\n",
    "        #rety --> True\n",
    "        print(\"User clicked Retry\")\n",
    "    else:\n",
    "        #cancel --> false\n",
    "        print(\"User clicked Cancel\")\n",
    "\n",
    "\n",
    "\n",
    "root = tk.Tk()\n",
    "root.title(\"Message Box Examples\")\n",
    "\n",
    "# Buttons to trigger message box functions\n",
    "info_button = tk.Button(root, text=\"Show Info\", command=show_info_message)\n",
    "info_button.pack(pady=5)\n",
    "\n",
    "warning_button = tk.Button(root, text=\"Show Warning\", command=show_warning_message)\n",
    "warning_button.pack(pady=5)\n",
    "\n",
    "error_button = tk.Button(root, text=\"Show Error\", command=show_error_message)\n",
    "error_button.pack(pady=5)\n",
    "\n",
    "yes_no_button = tk.Button(root, text=\"Ask Yes/No\", command=ask_yes_no)\n",
    "yes_no_button.pack(pady=5)\n",
    "\n",
    "ok_cancel_button = tk.Button(root, text=\"Ask Ok/Cancel\", command=ask_ok_cancel)\n",
    "ok_cancel_button.pack(pady=5)\n",
    "\n",
    "retry_cancel_button = tk.Button(root, text=\"Ask Retry/Cancel\", command=ask_retry_cancel)\n",
    "retry_cancel_button.pack(pady=5)\n",
    "\n",
    "root.mainloop()"
   ]
  }
 ],
 "metadata": {
  "kernelspec": {
   "display_name": "llm",
   "language": "python",
   "name": "python3"
  },
  "language_info": {
   "codemirror_mode": {
    "name": "ipython",
    "version": 3
   },
   "file_extension": ".py",
   "mimetype": "text/x-python",
   "name": "python",
   "nbconvert_exporter": "python",
   "pygments_lexer": "ipython3",
   "version": "3.11.5"
  }
 },
 "nbformat": 4,
 "nbformat_minor": 2
}
